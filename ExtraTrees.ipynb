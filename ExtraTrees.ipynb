{
 "cells": [
  {
   "cell_type": "code",
   "execution_count": 1,
   "id": "89d57c98-a482-45aa-aac1-d91b11f84e15",
   "metadata": {},
   "outputs": [],
   "source": [
    "from sklearn.model_selection import train_test_split\n",
    "from sklearn.ensemble import ExtraTreesRegressor\n",
    "from sklearn.model_selection import cross_val_score\n",
    "import pandas as pd\n",
    "from matplotlib import pyplot as plt\n",
    "import numpy as np\n",
    "import datetime as dt"
   ]
  },
  {
   "cell_type": "code",
   "execution_count": 2,
   "id": "b6baa90a-11c4-47bf-a410-19e13f75380f",
   "metadata": {},
   "outputs": [
    {
     "data": {
      "text/html": [
       "<div>\n",
       "<style scoped>\n",
       "    .dataframe tbody tr th:only-of-type {\n",
       "        vertical-align: middle;\n",
       "    }\n",
       "\n",
       "    .dataframe tbody tr th {\n",
       "        vertical-align: top;\n",
       "    }\n",
       "\n",
       "    .dataframe thead th {\n",
       "        text-align: right;\n",
       "    }\n",
       "</style>\n",
       "<table border=\"1\" class=\"dataframe\">\n",
       "  <thead>\n",
       "    <tr style=\"text-align: right;\">\n",
       "      <th></th>\n",
       "      <th>Unnamed: 0.1</th>\n",
       "      <th>Unnamed: 0</th>\n",
       "      <th>flight_id</th>\n",
       "      <th>date</th>\n",
       "      <th>callsign</th>\n",
       "      <th>adep</th>\n",
       "      <th>name_adep</th>\n",
       "      <th>country_code_adep</th>\n",
       "      <th>ades</th>\n",
       "      <th>name_ades</th>\n",
       "      <th>...</th>\n",
       "      <th>maxAlt</th>\n",
       "      <th>ades_lat</th>\n",
       "      <th>ades_lon</th>\n",
       "      <th>ades_latlon</th>\n",
       "      <th>ades_name</th>\n",
       "      <th>adep_lat</th>\n",
       "      <th>adep_lon</th>\n",
       "      <th>adep_latlon</th>\n",
       "      <th>adep_name</th>\n",
       "      <th>month</th>\n",
       "    </tr>\n",
       "  </thead>\n",
       "  <tbody>\n",
       "    <tr>\n",
       "      <th>0</th>\n",
       "      <td>0</td>\n",
       "      <td>0</td>\n",
       "      <td>248753821</td>\n",
       "      <td>2022-01-01</td>\n",
       "      <td>3b3de0f3ad0ee192513995c02f7bf7cf</td>\n",
       "      <td>LTFJ</td>\n",
       "      <td>Istanbul Sabiha Gokcen</td>\n",
       "      <td>TR</td>\n",
       "      <td>LFLL</td>\n",
       "      <td>Lyon</td>\n",
       "      <td>...</td>\n",
       "      <td>36025.0</td>\n",
       "      <td>45.725996</td>\n",
       "      <td>5.090139</td>\n",
       "      <td>(45.725996, 5.090139)</td>\n",
       "      <td>LYS</td>\n",
       "      <td>40.898602</td>\n",
       "      <td>29.309200</td>\n",
       "      <td>(40.898602, 29.3092)</td>\n",
       "      <td>SAW</td>\n",
       "      <td>1</td>\n",
       "    </tr>\n",
       "    <tr>\n",
       "      <th>1</th>\n",
       "      <td>1</td>\n",
       "      <td>1</td>\n",
       "      <td>248753822</td>\n",
       "      <td>2022-01-01</td>\n",
       "      <td>e06dd03d4a879ca37d9e18c1bd7cad16</td>\n",
       "      <td>EBBR</td>\n",
       "      <td>Brussels</td>\n",
       "      <td>BE</td>\n",
       "      <td>KJFK</td>\n",
       "      <td>New York JFK</td>\n",
       "      <td>...</td>\n",
       "      <td>40000.0</td>\n",
       "      <td>40.639447</td>\n",
       "      <td>-73.779317</td>\n",
       "      <td>(40.639447, -73.779317)</td>\n",
       "      <td>JFK</td>\n",
       "      <td>50.901402</td>\n",
       "      <td>4.484440</td>\n",
       "      <td>(50.901402, 4.48444)</td>\n",
       "      <td>BRU</td>\n",
       "      <td>1</td>\n",
       "    </tr>\n",
       "    <tr>\n",
       "      <th>2</th>\n",
       "      <td>2</td>\n",
       "      <td>2</td>\n",
       "      <td>248754498</td>\n",
       "      <td>2022-01-01</td>\n",
       "      <td>2d3b1c962c78c4ebeef11bcd51b9e94c</td>\n",
       "      <td>KMIA</td>\n",
       "      <td>Miami</td>\n",
       "      <td>US</td>\n",
       "      <td>EGLL</td>\n",
       "      <td>London Heathrow</td>\n",
       "      <td>...</td>\n",
       "      <td>35000.0</td>\n",
       "      <td>51.470600</td>\n",
       "      <td>-0.461941</td>\n",
       "      <td>(51.4706, -0.461941)</td>\n",
       "      <td>LHR</td>\n",
       "      <td>25.793200</td>\n",
       "      <td>-80.290604</td>\n",
       "      <td>(25.79319953918457, -80.29060363769531)</td>\n",
       "      <td>MIA</td>\n",
       "      <td>1</td>\n",
       "    </tr>\n",
       "    <tr>\n",
       "      <th>3</th>\n",
       "      <td>3</td>\n",
       "      <td>3</td>\n",
       "      <td>248763650</td>\n",
       "      <td>2022-01-01</td>\n",
       "      <td>35f7721f68bf85128195547ae38b0f04</td>\n",
       "      <td>EBBR</td>\n",
       "      <td>Brussels</td>\n",
       "      <td>BE</td>\n",
       "      <td>LEAL</td>\n",
       "      <td>Alicante</td>\n",
       "      <td>...</td>\n",
       "      <td>39000.0</td>\n",
       "      <td>38.282200</td>\n",
       "      <td>-0.558156</td>\n",
       "      <td>(38.2822, -0.558156)</td>\n",
       "      <td>ALC</td>\n",
       "      <td>50.901402</td>\n",
       "      <td>4.484440</td>\n",
       "      <td>(50.901402, 4.48444)</td>\n",
       "      <td>BRU</td>\n",
       "      <td>1</td>\n",
       "    </tr>\n",
       "    <tr>\n",
       "      <th>4</th>\n",
       "      <td>4</td>\n",
       "      <td>4</td>\n",
       "      <td>248763651</td>\n",
       "      <td>2022-01-01</td>\n",
       "      <td>eb56918bee9bc5204624186b9bcc4391</td>\n",
       "      <td>LSZH</td>\n",
       "      <td>Zurich</td>\n",
       "      <td>CH</td>\n",
       "      <td>LFPG</td>\n",
       "      <td>Paris Charles de Gaulle</td>\n",
       "      <td>...</td>\n",
       "      <td>31000.0</td>\n",
       "      <td>49.012798</td>\n",
       "      <td>2.550000</td>\n",
       "      <td>(49.012798, 2.55)</td>\n",
       "      <td>CDG</td>\n",
       "      <td>47.458056</td>\n",
       "      <td>8.548056</td>\n",
       "      <td>(47.458056, 8.548056)</td>\n",
       "      <td>ZRH</td>\n",
       "      <td>1</td>\n",
       "    </tr>\n",
       "  </tbody>\n",
       "</table>\n",
       "<p>5 rows × 31 columns</p>\n",
       "</div>"
      ],
      "text/plain": [
       "   Unnamed: 0.1  Unnamed: 0  flight_id        date  \\\n",
       "0             0           0  248753821  2022-01-01   \n",
       "1             1           1  248753822  2022-01-01   \n",
       "2             2           2  248754498  2022-01-01   \n",
       "3             3           3  248763650  2022-01-01   \n",
       "4             4           4  248763651  2022-01-01   \n",
       "\n",
       "                           callsign  adep               name_adep  \\\n",
       "0  3b3de0f3ad0ee192513995c02f7bf7cf  LTFJ  Istanbul Sabiha Gokcen   \n",
       "1  e06dd03d4a879ca37d9e18c1bd7cad16  EBBR                Brussels   \n",
       "2  2d3b1c962c78c4ebeef11bcd51b9e94c  KMIA                   Miami   \n",
       "3  35f7721f68bf85128195547ae38b0f04  EBBR                Brussels   \n",
       "4  eb56918bee9bc5204624186b9bcc4391  LSZH                  Zurich   \n",
       "\n",
       "  country_code_adep  ades                name_ades  ...   maxAlt   ades_lat  \\\n",
       "0                TR  LFLL                     Lyon  ...  36025.0  45.725996   \n",
       "1                BE  KJFK             New York JFK  ...  40000.0  40.639447   \n",
       "2                US  EGLL          London Heathrow  ...  35000.0  51.470600   \n",
       "3                BE  LEAL                 Alicante  ...  39000.0  38.282200   \n",
       "4                CH  LFPG  Paris Charles de Gaulle  ...  31000.0  49.012798   \n",
       "\n",
       "    ades_lon              ades_latlon ades_name   adep_lat   adep_lon  \\\n",
       "0   5.090139    (45.725996, 5.090139)       LYS  40.898602  29.309200   \n",
       "1 -73.779317  (40.639447, -73.779317)       JFK  50.901402   4.484440   \n",
       "2  -0.461941     (51.4706, -0.461941)       LHR  25.793200 -80.290604   \n",
       "3  -0.558156     (38.2822, -0.558156)       ALC  50.901402   4.484440   \n",
       "4   2.550000        (49.012798, 2.55)       CDG  47.458056   8.548056   \n",
       "\n",
       "                               adep_latlon  adep_name  month  \n",
       "0                     (40.898602, 29.3092)        SAW      1  \n",
       "1                     (50.901402, 4.48444)        BRU      1  \n",
       "2  (25.79319953918457, -80.29060363769531)        MIA      1  \n",
       "3                     (50.901402, 4.48444)        BRU      1  \n",
       "4                    (47.458056, 8.548056)        ZRH      1  \n",
       "\n",
       "[5 rows x 31 columns]"
      ]
     },
     "execution_count": 2,
     "metadata": {},
     "output_type": "execute_result"
    }
   ],
   "source": [
    "# Load input data\n",
    "challenge_set =pd.read_csv(\"challenge_set_addParq_addApt.csv\")\n",
    "challenge_set['month']=pd.DatetimeIndex(challenge_set['date']).month\n",
    "final_submission_set =pd.read_csv(\"final_submission_set_addParq_addApt.csv\")\n",
    "final_submission_set['month']=pd.DatetimeIndex(final_submission_set['date']).month\n",
    "final_submission_set.head()"
   ]
  },
  {
   "cell_type": "code",
   "execution_count": 3,
   "id": "05169dc0-9f3d-45af-9287-f77a4d240058",
   "metadata": {},
   "outputs": [
    {
     "data": {
      "image/png": "[encoded data removed]",
      "text/plain": [
       "<Figure size 640x480 with 1 Axes>"
      ]
     },
     "metadata": {},
     "output_type": "display_data"
    }
   ],
   "source": [
    "# Visualise input data set\n",
    "fig = plt.figure()\n",
    "ax = fig.add_subplot(projection='3d')\n",
    "\n",
    "xs = challenge_set[\"flown_distance\"]\n",
    "ys = challenge_set[\"ICA\"]\n",
    "zs = challenge_set[\"tow\"]\n",
    "ax.scatter(xs, ys, zs, marker='x')\n",
    "\n",
    "ax.set_xlabel('flown_distance')\n",
    "ax.set_ylabel('ICA')\n",
    "ax.set_zlabel('TOW')\n",
    "\n",
    "plt.show()\n",
    "\n",
    "# # Plot TrainData TOW vs FlownDist\n",
    "# plt.scatter(challenge_set[\"flown_distance\"],challenge_set[\"tow\"])\n",
    "# plt.grid('minor')\n",
    "# plt.xlabel('flown_distance (nm)')\n",
    "# plt.ylabel('TOW (kg)')\n",
    "# plt.title('Train Data')\n",
    "# plt.show()"
   ]
  },
  {
   "cell_type": "code",
   "execution_count": 4,
   "id": "4acabf9d-9152-420e-869e-9011e683ae3e",
   "metadata": {},
   "outputs": [
    {
     "name": "stdout",
     "output_type": "stream",
     "text": [
      "All Train Data cross val score is:  -5621.66\n"
     ]
    }
   ],
   "source": [
    "# ---------------Version 10---------------\n",
    "# Create dummy min TOW for each ACtype group for ExtraTrees.\n",
    "train_group_by_ac = challenge_set[[\"aircraft_type\", \"tow\"]].groupby(\"aircraft_type\")\n",
    "min_tow_by_ac = train_group_by_ac.min()\n",
    "# print(min_tow_by_ac)\n",
    "ac_tows = min_tow_by_ac[\"tow\"].values\n",
    "ac_list = min_tow_by_ac[\"tow\"].index.values\n",
    "type_dic = {}\n",
    "for i in range(len(ac_tows)):\n",
    "    type_dic[ac_list[i]] = ac_tows[i]\n",
    "challenge_set[\"actype_mintow\"] = challenge_set[\"aircraft_type\"].map(type_dic)\n",
    "\n",
    "train_df = challenge_set[[\"actype_mintow\",\"flight_duration\",\"flown_distance\",\"taxiout_time\",\"tow\"]]\n",
    "X = train_df[[\"flight_duration\",\"flown_distance\",\"taxiout_time\",\"actype_mintow\"]].to_numpy()\n",
    "y = train_df[\"tow\"].to_numpy()\n",
    "\n",
    "# ExtraTreeRegression with Train Test Split\n",
    "    # X_train, X_test, y_train, y_test = train_test_split(X, y, random_state=0)\n",
    "    # ExTreeReg_Sample = ExtraTreesRegressor(n_estimators=100, random_state=0).fit(X_train, y_train)\n",
    "    # score = cross_val_score(ExTreeReg_Sample, X_test, y_test, scoring='neg_root_mean_squared_error').mean().round(2)\n",
    "    # print(\"Train Test Split cross val score is: \",score)\n",
    "# cross val score is:  -5866.8\n",
    "\n",
    "# ExtraTreeRegression with All Train Data\n",
    "ExTreeReg_All = ExtraTreesRegressor(n_estimators=100, random_state=0, bootstrap=True, n_jobs=-1, max_samples=0.2).fit(X, y)\n",
    "training_set_pred = ExTreeReg_All.predict(X)\n",
    "score = cross_val_score(ExTreeReg_All, X, y, scoring='neg_root_mean_squared_error').mean().round(2)\n",
    "print(\"All Train Data cross val score is: \",score)\n",
    "challenge_set[\"tow_pred\"] = training_set_pred\n",
    "challenge_set[\"tow_diff\"] = challenge_set[\"tow_pred\"].sub(challenge_set[\"tow\"], axis=0)\n",
    "# cross val score is: -6147.41\n",
    "\n",
    "# Pred Submission Set (v10)\n",
    "final_submission_set[\"actype_mintow\"] = final_submission_set[\"aircraft_type\"].map(type_dic)\n",
    "submi_df = final_submission_set[[\"actype_mintow\",\"flight_duration\",\"flown_distance\",\"taxiout_time\"]]\n",
    "X = submi_df[[\"flight_duration\",\"flown_distance\",\"taxiout_time\",\"actype_mintow\"]].to_numpy()\n",
    "final_submission_set_pred = ExTreeReg_All.predict(X)\n",
    "final_submission_set[\"tow\"] = final_submission_set_pred\n",
    "final_submission_set.to_csv(\"final_submission_set_ExTreeReg_All.csv\")\n",
    "### RMSE score on OSN Ranking = 5764.1"
   ]
  },
  {
   "cell_type": "code",
   "execution_count": 5,
   "id": "bbdfa518-3c07-49f6-ba0e-eb38aacba7cb",
   "metadata": {},
   "outputs": [
    {
     "name": "stdout",
     "output_type": "stream",
     "text": [
      "cross val score is:  -4567.56\n",
      "        acOp_meantow\n",
      "28098    79482.25723\n",
      "78003    79482.25723\n",
      "102792   79482.25723\n"
     ]
    }
   ],
   "source": [
    "# ---------------Version 11---------------\n",
    "# # Create dummy min TOW for each ACtype/Airline group for ExtraTrees. (Step 1)\n",
    "group_by_acOp = challenge_set[[\"aircraft_type\", \"airline\",\"tow\"]].groupby([\"aircraft_type\", \"airline\"])\n",
    "group_by_ac = challenge_set[[\"aircraft_type\", \"tow\"]].groupby([\"aircraft_type\"])\n",
    "# group_by_acOp.head(5)\n",
    "mean_group_by_acOp = group_by_acOp.mean()\n",
    "mean_group_by_ac = group_by_ac.mean()\n",
    "# print(mean_group_by_acOp)\n",
    "acOp_tows = mean_group_by_acOp[\"tow\"].values\n",
    "acOp_list = mean_group_by_acOp[\"tow\"].index.values\n",
    "ac_tows = mean_group_by_ac[\"tow\"].values\n",
    "ac_list = mean_group_by_ac[\"tow\"].index.values\n",
    "# print(acOp_list)\n",
    "acOp_dic = {}\n",
    "for i in range(len(acOp_list)):\n",
    "    acOp_dic[acOp_list[i]] = acOp_tows[i]\n",
    "ac_dic = {}\n",
    "for i in range(len(ac_list)):\n",
    "    ac_dic[ac_list[i]] = ac_tows[i]\n",
    "challenge_set['acOp'] = challenge_set[['aircraft_type', 'airline']].apply(tuple, axis=1)\n",
    "challenge_set[\"acOp_meantow\"] = challenge_set[\"acOp\"].map(acOp_dic)\n",
    "# print(challenge_set[[\"acOp\",\"acOp_meantow\"]])\n",
    "\n",
    "# Create dummy min TOW for each ACtype/Airline group for ExtraTrees. (Step 2)\n",
    "train_df = challenge_set[[\"actype_mintow\",\"acOp_meantow\",\"flight_duration\",\"flown_distance\",\"taxiout_time\",\"tow\"]]\n",
    "X = train_df[[\"flight_duration\",\"acOp_meantow\",\"flown_distance\",\"taxiout_time\",\"actype_mintow\"]].to_numpy()\n",
    "y = train_df[\"tow\"].to_numpy()\n",
    "# ExtraTreeRegression with All Train Data\n",
    "ExTreeReg_acOp = ExtraTreesRegressor(n_estimators=100, random_state=0, bootstrap=True, n_jobs=-1, max_samples=0.2).fit(X, y)\n",
    "training_set_pred = ExTreeReg_acOp.predict(X)\n",
    "score = cross_val_score(ExTreeReg_acOp, X, y, scoring='neg_root_mean_squared_error').mean().round(2)\n",
    "print(\"cross val score is: \",score)\n",
    "# cross val score is:  -5083.28\n",
    "challenge_set[\"tow_pred\"] = training_set_pred\n",
    "challenge_set[\"tow_diff\"] = challenge_set[\"tow_pred\"].sub(challenge_set[\"tow\"], axis=0)\n",
    "\n",
    "# ACtype/Airline group Pred Submission Set  (Step 3) (v11)\n",
    "final_submission_set[\"actype_mintow\"] = final_submission_set[\"aircraft_type\"].map(type_dic)\n",
    "# final_submission_set[\"actype_meantow\"] = final_submission_set[\"aircraft_type\"].map(ac_dic)\n",
    "final_submission_set['acOp'] = final_submission_set[['aircraft_type', 'airline']].apply(tuple, axis=1)\n",
    "final_submission_set[\"acOp_meantow\"] = final_submission_set[\"acOp\"].map(acOp_dic)\n",
    "# print(final_submission_set[\"acOp_meantow\"])\n",
    "# print(final_submission_set[\"acOp_meantow\"].isna().sum())\n",
    "# print(final_submission_set.loc[final_submission_set[\"acOp_meantow\"].isna(), [\"acOp_meantow\"]])\n",
    "# print(final_submission_set.loc[[28098,78003,102792], [\"acOp_meantow\"]])\n",
    "# print(final_submission_set[\"actype_meantow\"])\n",
    "# final_submission_set.loc[final_submission_set[\"acOp_meantow\"].isna(), [\"acOp_meantow\"]] = final_submission_set.loc[final_submission_set[\"acOp_meantow\"].isna(), [\"actype_meantow\"]]\n",
    "final_submission_set.loc[final_submission_set[\"acOp_meantow\"].isna(), [\"acOp_meantow\"]] = 79482.25723 # Average TOW of all training set (only 3 lines from final_submission_set is affected..)\n",
    "print(final_submission_set.loc[[28098,78003,102792], [\"acOp_meantow\"]])\n",
    "# print(final_submission_set)\n",
    "submi_df = final_submission_set[[\"actype_mintow\",\"acOp_meantow\",\"flight_duration\",\"flown_distance\",\"taxiout_time\"]]\n",
    "X = submi_df[[\"flight_duration\",\"acOp_meantow\",\"flown_distance\",\"taxiout_time\",\"actype_mintow\"]].to_numpy()\n",
    "final_submission_set_pred = ExTreeReg_acOp.predict(X)\n",
    "final_submission_set[\"tow\"] = final_submission_set_pred\n",
    "final_submission_set.to_csv(\"final_submission_set_ExTreeReg_acOp.csv\")\n",
    "### RMSE score on OSN Ranking = "
   ]
  },
  {
   "cell_type": "code",
   "execution_count": 7,
   "id": "736f28ec",
   "metadata": {},
   "outputs": [
    {
     "name": "stdout",
     "output_type": "stream",
     "text": [
      "911 rows of NaN from challenge_set is filled with ICA=35000\n",
      "911 rows of NaN from challenge_set is filled with maxAlt=38000\n"
     ]
    }
   ],
   "source": [
    "# ---------------Version 12--------------- (Section 1)\n",
    "# Include ICA and maxAlt effects\n",
    "# # Create dummy min TOW for each ACtype/Airline group for ExtraTrees. (Step 1)\n",
    "group_by_acOp = challenge_set[[\"aircraft_type\", \"airline\",\"tow\"]].groupby([\"aircraft_type\", \"airline\"])\n",
    "group_by_ac = challenge_set[[\"aircraft_type\",\"tow\",\"ICA\",\"maxAlt\"]].groupby([\"aircraft_type\"])\n",
    "mean_group_by_acOp = group_by_acOp.mean()\n",
    "mean_group_by_ac = group_by_ac.mean()\n",
    "# print(mean_group_by_acOp)\n",
    "acOp_tows = mean_group_by_acOp[\"tow\"].values\n",
    "acOp_list = mean_group_by_acOp[\"tow\"].index.values\n",
    "ac_tows = mean_group_by_ac[\"tow\"].values\n",
    "ac_ICAs = mean_group_by_ac[\"ICA\"].values\n",
    "ac_maxAlts = mean_group_by_ac[\"maxAlt\"].values\n",
    "ac_list = mean_group_by_ac[\"tow\"].index.values\n",
    "# print(acOp_list)\n",
    "acOp_dic = {}\n",
    "for i in range(len(acOp_list)):\n",
    "    acOp_dic[acOp_list[i]] = acOp_tows[i]\n",
    "ac_dic = {}\n",
    "acICA_dic = {}\n",
    "acmxAlt_dic = {}\n",
    "for i in range(len(ac_list)):\n",
    "    ac_dic[ac_list[i]] = ac_tows[i]\n",
    "    acICA_dic[ac_list[i]] = ac_ICAs[i]\n",
    "    acmxAlt_dic[ac_list[i]] = ac_maxAlts[i]\n",
    "# print(ac_dic)\n",
    "challenge_set['acOp'] = challenge_set[['aircraft_type', 'airline']].apply(tuple, axis=1)\n",
    "challenge_set[\"acOp_meantow\"] = challenge_set[\"acOp\"].map(acOp_dic)\n",
    "challenge_set[\"actype_meantow\"] = challenge_set[\"aircraft_type\"].map(ac_dic)\n",
    "challenge_set[\"actype_meanICA\"] = challenge_set[\"aircraft_type\"].map(acICA_dic)\n",
    "challenge_set[\"actype_meanmaxAlt\"] = challenge_set[\"aircraft_type\"].map(acmxAlt_dic)\n",
    "# print(challenge_set[[\"acOp\",\"acOp_meantow\"]])\n",
    "\n",
    "print(challenge_set[\"ICA\"].isna().sum(), \"rows of NaN from challenge_set is filled with ICA=35000\")\n",
    "challenge_set.loc[challenge_set[\"ICA\"].isna(), [\"ICA\"]] = 35000\n",
    "print(challenge_set[\"maxAlt\"].isna().sum(), \"rows of NaN from challenge_set is filled with maxAlt=38000\")\n",
    "challenge_set.loc[challenge_set[\"maxAlt\"].isna(), [\"maxAlt\"]] = 38000\n",
    "# challenge_set.loc[challenge_set[\"ICA\"].isna(), [\"ICA\"]].replace(challenge_set.loc[challenge_set[\"ICA\"].isna(), [\"actype_meanICA\"]])\n",
    "# challenge_set.loc[challenge_set[\"maxAlt\"].isna(), [\"maxAlt\"]] = challenge_set.loc[challenge_set[\"maxAlt\"].isna(), [\"actype_meanmaxAlt\"]]\n",
    "# print(challenge_set.loc[challenge_set[\"maxAlt\"].isna(), [\"ICA\", \"maxAlt\", \"actype_meanICA\", \"actype_meanmaxAlt\"]])"
   ]
  },
  {
   "cell_type": "code",
   "execution_count": 8,
   "id": "e0f6d041",
   "metadata": {},
   "outputs": [
    {
     "name": "stdout",
     "output_type": "stream",
     "text": [
      "cross val score is:  -3883.25\n",
      "3 rows of NaN from final submission set is filled with acOp_meantow=79482.25723\n",
      "379 rows of NaN from final submission set is filled with ICA=35000\n",
      "379 rows of NaN from final submission set is filled with maxAlt=38000\n"
     ]
    }
   ],
   "source": [
    "# ---------------Version 12 (section 2) ---------------\n",
    "# Create dummy min TOW for each ACtype/Airline group for ExtraTrees. (Step 2)\n",
    "train_df = challenge_set[[\"actype_meantow\",\"acOp_meantow\",\"flight_duration\",\"flown_distance\",\"taxiout_time\",\"tow\",\"ICA\",\"maxAlt\"]]\n",
    "X = train_df[[\"flight_duration\",\"acOp_meantow\",\"flown_distance\",\"taxiout_time\",\"actype_meantow\",\"ICA\",\"maxAlt\"]].to_numpy()\n",
    "y = train_df[\"tow\"].to_numpy()\n",
    "# ExtraTreeRegression with 7 Parameters: \"actype_meantow\",\"acOp_meantow\",\"flight_duration\",\"flown_distance\",\"taxiout_time\",\"ICA\",\"maxAlt\"\n",
    "ExTreeReg_7Param = ExtraTreesRegressor(n_estimators=100, random_state=0, bootstrap=True, n_jobs=-1, max_samples=0.2).fit(X, y)\n",
    "training_set_pred = ExTreeReg_7Param.predict(X)\n",
    "score = cross_val_score(ExTreeReg_7Param, X, y, scoring='neg_root_mean_squared_error').mean().round(2)\n",
    "print(\"cross val score is: \",score)\n",
    "# cross val score is:  -4095.77\n",
    "challenge_set[\"tow_pred\"] = training_set_pred\n",
    "challenge_set[\"tow_diff\"] = challenge_set[\"tow_pred\"].sub(challenge_set[\"tow\"], axis=0)\n",
    "\n",
    "# ACtype/Airline group Pred Submission Set  (Step 3) (v11)\n",
    "# final_submission_set[\"actype_mintow\"] = final_submission_set[\"aircraft_type\"].map(type_dic)\n",
    "final_submission_set[\"actype_meantow\"] = final_submission_set[\"aircraft_type\"].map(ac_dic)\n",
    "final_submission_set['acOp'] = final_submission_set[['aircraft_type', 'airline']].apply(tuple, axis=1)\n",
    "final_submission_set[\"acOp_meantow\"] = final_submission_set[\"acOp\"].map(acOp_dic)\n",
    "\n",
    "# final_submission_set.loc[final_submission_set[\"acOp_meantow\"].isna(), [\"acOp_meantow\"]] = 79482.25723 # Average TOW of all training set (only 3 lines from final_submission_set is affected..)\n",
    "# final_submission_set.loc[final_submission_set[\"ICA\"].isna(), [\"ICA\"]] = 35000\n",
    "# final_submission_set.loc[final_submission_set[\"maxAlt\"].isna(), [\"maxAlt\"]] = 38000\n",
    "\n",
    "print(final_submission_set[\"acOp_meantow\"].isna().sum(), \"rows of NaN from final submission set is filled with acOp_meantow=79482.25723\")\n",
    "final_submission_set[\"acOp_meantow\"]=final_submission_set[\"acOp_meantow\"].fillna(79482.25723)\n",
    "print(final_submission_set[\"ICA\"].isna().sum(), \"rows of NaN from final submission set is filled with ICA=35000\")\n",
    "final_submission_set[\"ICA\"]=final_submission_set[\"ICA\"].fillna(35000)\n",
    "print(final_submission_set[\"maxAlt\"].isna().sum(), \"rows of NaN from final submission set is filled with maxAlt=38000\")\n",
    "final_submission_set[\"maxAlt\"]=final_submission_set[\"maxAlt\"].fillna(38000)\n",
    "\n",
    "submi_df = final_submission_set[[\"actype_meantow\",\"acOp_meantow\",\"flight_duration\",\"flown_distance\",\"taxiout_time\",\"ICA\",\"maxAlt\"]]\n",
    "X = submi_df[[\"flight_duration\",\"acOp_meantow\",\"flown_distance\",\"taxiout_time\",\"actype_meantow\",\"ICA\",\"maxAlt\"]].to_numpy()\n",
    "final_submission_set_pred = ExTreeReg_7Param.predict(X)\n",
    "final_submission_set[\"tow\"] = final_submission_set_pred\n",
    "final_submission_set[[\"flight_id\",\"tow\"]].to_csv(\"final_submission_set_ExTreeReg_7Param.csv\",index=False)\n",
    "### RMSE score on OSN Ranking = "
   ]
  },
  {
   "cell_type": "code",
   "execution_count": 9,
   "id": "529ec3cd-bc8f-4286-b79b-8609fa28edee",
   "metadata": {},
   "outputs": [
    {
     "name": "stdout",
     "output_type": "stream",
     "text": [
      "1337 rows of NaN from challenge_set is filled with des_dev=0\n",
      "594 rows of NaN from final submission set is filled with des_dev=0\n"
     ]
    }
   ],
   "source": [
    "# ---------------Version 14 (Section 3 - Run Version 12 Section 1 and 2 First) ---------------\n",
    "# characterise destination airport by the residuals from previous best training.\n",
    "tow_by_des = challenge_set[[\"ades\",\"tow_diff\"]].groupby(\"ades\")\n",
    "mean_group_by_des = tow_by_des.mean()\n",
    "des_dev = mean_group_by_des[\"tow_diff\"].values\n",
    "des_list = mean_group_by_des[\"tow_diff\"].index.values\n",
    "des_dic = {}\n",
    "for i in range(len(des_dev)):\n",
    "    des_dic[des_list[i]] = des_dev[i]\n",
    "challenge_set[\"des_dev\"] = challenge_set[\"adep\"].map(des_dic)\n",
    "print(challenge_set[\"des_dev\"].isna().sum(), \"rows of NaN from challenge_set is filled with des_dev=0\")\n",
    "challenge_set[\"des_dev\"] = challenge_set[\"des_dev\"].fillna(0)\n",
    "final_submission_set[\"des_dev\"] = final_submission_set[\"adep\"].map(des_dic)\n",
    "print(final_submission_set[\"des_dev\"].isna().sum(), \"rows of NaN from final submission set is filled with des_dev=0\")\n",
    "final_submission_set[\"des_dev\"]=final_submission_set[\"des_dev\"].fillna(0)"
   ]
  },
  {
   "cell_type": "code",
   "execution_count": 10,
   "id": "86abb090-443b-45df-9d54-c283473bbca7",
   "metadata": {},
   "outputs": [
    {
     "name": "stdout",
     "output_type": "stream",
     "text": [
      "cross val score is:  -3812.79\n"
     ]
    }
   ],
   "source": [
    "# ---------------Version 14 (section 4) ---------------\n",
    "train_df = challenge_set[[\"actype_meantow\",\"acOp_meantow\",\"flight_duration\",\"flown_distance\",\"taxiout_time\",\"tow\",\"ICA\",\"maxAlt\",\"des_dev\"]]\n",
    "X = train_df[[\"flight_duration\",\"acOp_meantow\",\"flown_distance\",\"taxiout_time\",\"actype_meantow\",\"ICA\",\"maxAlt\",\"des_dev\"]].to_numpy()\n",
    "y = train_df[\"tow\"].to_numpy()\n",
    "# ExtraTreeRegression with 8 Parameters: \"actype_mintow\",\"acOp_meantow\",\"flight_duration\",\"flown_distance\",\"taxiout_time\",\"ICA\",\"maxAlt\",\"des_dev\"\n",
    "ExTreeReg_ades = ExtraTreesRegressor(n_estimators=100, random_state=0, bootstrap=True, n_jobs=-1, max_samples=0.2).fit(X, y)\n",
    "training_set_pred = ExTreeReg_ades.predict(X)\n",
    "score = cross_val_score(ExTreeReg_ades, X, y, scoring='neg_root_mean_squared_error').mean().round(2)\n",
    "print(\"cross val score is: \",score)\n",
    "# cross val score is:  -4028.31\n",
    "challenge_set[\"tow_pred\"] = training_set_pred\n",
    "challenge_set[\"tow_diff_withADES\"] = challenge_set[\"tow_pred\"].sub(challenge_set[\"tow\"], axis=0)\n",
    "\n",
    "submi_df = final_submission_set[[\"actype_meantow\",\"acOp_meantow\",\"flight_duration\",\"flown_distance\",\"taxiout_time\",\"ICA\",\"maxAlt\",\"des_dev\"]]\n",
    "X = submi_df[[\"flight_duration\",\"acOp_meantow\",\"flown_distance\",\"taxiout_time\",\"actype_meantow\",\"ICA\",\"maxAlt\",\"des_dev\"]].to_numpy()\n",
    "final_submission_set_pred = ExTreeReg_ades.predict(X)\n",
    "final_submission_set[\"tow\"] = final_submission_set_pred\n",
    "final_submission_set[[\"flight_id\",\"tow\"]].to_csv(\"final_submission_set_ExTreeReg_ades.csv\",index=False)\n",
    "### RMSE score on OSN Ranking = 3801.73"
   ]
  },
  {
   "cell_type": "code",
   "execution_count": 12,
   "id": "c80be2ed",
   "metadata": {},
   "outputs": [
    {
     "name": "stdout",
     "output_type": "stream",
     "text": [
      "12 rows of NaN from challenge_set is filled with ades_lon=0\n",
      "12 rows of NaN from challenge_set is filled with ades_lat=0\n",
      "97 rows of NaN from challenge_set is filled with adep_lon=0\n",
      "97 rows of NaN from challenge_set is filled with adep_lat=0\n",
      "9 rows of NaN from final_submission_set is filled with ades_lon=0\n",
      "9 rows of NaN from final_submission_set is filled with ades_lat=0\n",
      "39 rows of NaN from final_submission_set is filled with adep_lon=0\n",
      "39 rows of NaN from final_submission_set is filled with adep_lat=0\n"
     ]
    }
   ],
   "source": [
    "# ---------------Version 15 (section 4 - Run Version 12 and 14 Section 1 to 3 First) ---------------\n",
    "print(challenge_set[\"ades_lon\"].isna().sum(), \"rows of NaN from challenge_set is filled with ades_lon=0\")\n",
    "challenge_set.loc[challenge_set[\"ades_lon\"].isna(), [\"ades_lon\"]] = 0\n",
    "print(challenge_set[\"ades_lat\"].isna().sum(), \"rows of NaN from challenge_set is filled with ades_lat=0\")\n",
    "challenge_set.loc[challenge_set[\"ades_lat\"].isna(), [\"ades_lat\"]] = 0\n",
    "print(challenge_set[\"adep_lon\"].isna().sum(), \"rows of NaN from challenge_set is filled with adep_lon=0\")\n",
    "challenge_set.loc[challenge_set[\"adep_lon\"].isna(), [\"adep_lon\"]] = 0\n",
    "print(challenge_set[\"adep_lat\"].isna().sum(), \"rows of NaN from challenge_set is filled with adep_lat=0\")\n",
    "challenge_set.loc[challenge_set[\"adep_lat\"].isna(), [\"adep_lat\"]] = 0\n",
    "\n",
    "print(final_submission_set[\"ades_lon\"].isna().sum(), \"rows of NaN from final_submission_set is filled with ades_lon=0\")\n",
    "final_submission_set.loc[final_submission_set[\"ades_lon\"].isna(), [\"ades_lon\"]] = 0\n",
    "print(final_submission_set[\"ades_lat\"].isna().sum(), \"rows of NaN from final_submission_set is filled with ades_lat=0\")\n",
    "final_submission_set.loc[final_submission_set[\"ades_lat\"].isna(), [\"ades_lat\"]] = 0\n",
    "print(final_submission_set[\"adep_lon\"].isna().sum(), \"rows of NaN from final_submission_set is filled with adep_lon=0\")\n",
    "final_submission_set.loc[final_submission_set[\"adep_lon\"].isna(), [\"adep_lon\"]] = 0\n",
    "print(final_submission_set[\"adep_lat\"].isna().sum(), \"rows of NaN from final_submission_set is filled with adep_lat=0\")\n",
    "final_submission_set.loc[final_submission_set[\"adep_lat\"].isna(), [\"adep_lat\"]] = 0"
   ]
  },
  {
   "cell_type": "code",
   "execution_count": 15,
   "id": "7646396f",
   "metadata": {},
   "outputs": [
    {
     "name": "stdout",
     "output_type": "stream",
     "text": [
      "cross val score is:  -3689.01\n"
     ]
    }
   ],
   "source": [
    "# ---------------Version 15 (section 5) ---------------\n",
    "# just putting everything in, 13params\n",
    "train_df = challenge_set[[\"actype_meantow\",\"acOp_meantow\",\"flight_duration\",\"flown_distance\",\"taxiout_time\",\"tow\",\"ICA\",\"maxAlt\",\"des_dev\",\"month\",\"ades_lon\",\"ades_lat\",\"adep_lon\",\"adep_lat\"]]\n",
    "X = train_df[[\"flight_duration\",\"acOp_meantow\",\"flown_distance\",\"taxiout_time\",\"actype_meantow\",\"ICA\",\"maxAlt\",\"des_dev\",\"month\",\"ades_lon\",\"ades_lat\",\"adep_lon\",\"adep_lat\"]].to_numpy()\n",
    "y = train_df[\"tow\"].to_numpy()\n",
    "# ExtraTreeRegression with 13 Parameters: \"flight_duration\",\"acOp_meantow\",\"flown_distance\",\"taxiout_time\",\"actype_meantow\",\"ICA\",\"maxAlt\",\"des_dev\",\"month\",\"ades_lon\",\"ades_lat\",\"adep_lon\",\"adep_lat\"\n",
    "ExTreeReg_v15 = ExtraTreesRegressor(n_estimators=100, random_state=0, bootstrap=True, n_jobs=-1, max_samples=0.2).fit(X, y)\n",
    "training_set_pred = ExTreeReg_v15.predict(X)\n",
    "score = cross_val_score(ExTreeReg_v15, X, y, scoring='neg_root_mean_squared_error').mean().round(2)\n",
    "print(\"cross val score is: \",score)\n",
    "# cross val score is:  \n",
    "challenge_set[\"tow_pred\"] = training_set_pred\n",
    "challenge_set[\"tow_diff_withADES\"] = challenge_set[\"tow_pred\"].sub(challenge_set[\"tow\"], axis=0)\n",
    "\n",
    "submi_df = final_submission_set[[\"actype_meantow\",\"acOp_meantow\",\"flight_duration\",\"flown_distance\",\"taxiout_time\",\"ICA\",\"maxAlt\",\"des_dev\",\"month\",\"ades_lon\",\"ades_lat\",\"adep_lon\",\"adep_lat\"]]\n",
    "X = submi_df[[\"flight_duration\",\"acOp_meantow\",\"flown_distance\",\"taxiout_time\",\"actype_meantow\",\"ICA\",\"maxAlt\",\"des_dev\",\"month\",\"ades_lon\",\"ades_lat\",\"adep_lon\",\"adep_lat\"]].to_numpy()\n",
    "final_submission_set_pred = ExTreeReg_v15.predict(X)\n",
    "final_submission_set[\"tow\"] = final_submission_set_pred\n",
    "final_submission_set[[\"flight_id\",\"tow\"]].to_csv(\"final_submission_set_ExTreeReg_v15.csv\",index=False)\n",
    "### RMSE score on OSN Ranking = "
   ]
  },
  {
   "cell_type": "code",
   "execution_count": 20,
   "id": "5d03a7f3-5a12-43a6-84e3-3732663da6fa",
   "metadata": {},
   "outputs": [
    {
     "name": "stdout",
     "output_type": "stream",
     "text": [
      "cross val score is:  -4604.48\n"
     ]
    }
   ],
   "source": [
    "# --------------------Version 27 Gradient Boosting Trial---------------------\n",
    "from sklearn.ensemble import GradientBoostingRegressor\n",
    "train_df = challenge_set[[\"actype_meantow\",\"acOp_meantow\",\"flight_duration\",\"flown_distance\",\"taxiout_time\",\"tow\",\"ICA\",\"maxAlt\",\"des_dev\",\"month\",\"ades_lon\",\"ades_lat\",\"adep_lon\",\"adep_lat\"]]\n",
    "X = train_df[[\"flight_duration\",\"acOp_meantow\",\"flown_distance\",\"taxiout_time\",\"actype_meantow\",\"ICA\",\"maxAlt\",\"des_dev\",\"month\",\"ades_lon\",\"ades_lat\",\"adep_lon\",\"adep_lat\"]].to_numpy()\n",
    "y = train_df[\"tow\"].to_numpy()\n",
    "# ExtraTreeRegression with 13 Parameters: \"flight_duration\",\"acOp_meantow\",\"flown_distance\",\"taxiout_time\",\"actype_meantow\",\"ICA\",\"maxAlt\",\"des_dev\",\"month\",\"ades_lon\",\"ades_lat\",\"adep_lon\",\"adep_lat\"\n",
    "GBReg = GradientBoostingRegressor( n_estimators=500, max_depth=4, min_samples_split=5,learning_rate=0.01,loss=\"squared_error\").fit(X, y)\n",
    "training_set_pred = GBReg.predict(X)\n",
    "score = cross_val_score(GBReg, X, y, scoring='neg_root_mean_squared_error').mean().round(2)\n",
    "print(\"cross val score is: \",score)\n",
    "# cross val score is:  \n",
    "challenge_set[\"tow_pred\"] = training_set_pred\n",
    "challenge_set[\"tow_diff_withADES\"] = challenge_set[\"tow_pred\"].sub(challenge_set[\"tow\"], axis=0)\n",
    "\n",
    "submi_df = final_submission_set[[\"actype_meantow\",\"acOp_meantow\",\"flight_duration\",\"flown_distance\",\"taxiout_time\",\"ICA\",\"maxAlt\",\"des_dev\",\"month\",\"ades_lon\",\"ades_lat\",\"adep_lon\",\"adep_lat\"]]\n",
    "X = submi_df[[\"flight_duration\",\"acOp_meantow\",\"flown_distance\",\"taxiout_time\",\"actype_meantow\",\"ICA\",\"maxAlt\",\"des_dev\",\"month\",\"ades_lon\",\"ades_lat\",\"adep_lon\",\"adep_lat\"]].to_numpy()\n",
    "final_submission_set_pred = GBReg.predict(X)\n",
    "final_submission_set[\"tow\"] = final_submission_set_pred\n",
    "final_submission_set[[\"flight_id\",\"tow\"]].to_csv(\"final_submission_set_GradientBoosting_v27.csv\",index=False)"
   ]
  },
  {
   "cell_type": "code",
   "execution_count": 19,
   "id": "28c067ec-9c3d-454c-9ecb-8eb950df2402",
   "metadata": {},
   "outputs": [
    {
     "name": "stdout",
     "output_type": "stream",
     "text": [
      "cross val score is:  -3880.23\n"
     ]
    }
   ],
   "source": [
    "# --------------------Version 27.1 Gradient Boosting Trial---------------------\n",
    "from sklearn.ensemble import GradientBoostingRegressor\n",
    "train_df = challenge_set[[\"actype_meantow\",\"acOp_meantow\",\"flight_duration\",\"flown_distance\",\"taxiout_time\",\"tow\",\"ICA\",\"maxAlt\",\"des_dev\",\"month\",\"ades_lon\",\"ades_lat\",\"adep_lon\",\"adep_lat\"]]\n",
    "X = train_df[[\"flight_duration\",\"acOp_meantow\",\"flown_distance\",\"taxiout_time\",\"actype_meantow\",\"ICA\",\"maxAlt\",\"des_dev\",\"month\",\"ades_lon\",\"ades_lat\",\"adep_lon\",\"adep_lat\"]].to_numpy()\n",
    "y = train_df[\"tow\"].to_numpy()\n",
    "# ExtraTreeRegression with 13 Parameters: \"flight_duration\",\"acOp_meantow\",\"flown_distance\",\"taxiout_time\",\"actype_meantow\",\"ICA\",\"maxAlt\",\"des_dev\",\"month\",\"ades_lon\",\"ades_lat\",\"adep_lon\",\"adep_lat\"\n",
    "GBReg = GradientBoostingRegressor( n_estimators=500, max_depth=16, min_samples_split=8,learning_rate=0.01,loss=\"squared_error\").fit(X, y)\n",
    "training_set_pred = GBReg.predict(X)\n",
    "score = cross_val_score(GBReg, X, y, scoring='neg_root_mean_squared_error').mean().round(2)\n",
    "print(\"cross val score is: \",score)\n",
    "# cross val score is:  \n",
    "challenge_set[\"tow_pred\"] = training_set_pred\n",
    "challenge_set[\"tow_diff_withADES\"] = challenge_set[\"tow_pred\"].sub(challenge_set[\"tow\"], axis=0)\n",
    "\n",
    "submi_df = final_submission_set[[\"actype_meantow\",\"acOp_meantow\",\"flight_duration\",\"flown_distance\",\"taxiout_time\",\"ICA\",\"maxAlt\",\"des_dev\",\"month\",\"ades_lon\",\"ades_lat\",\"adep_lon\",\"adep_lat\"]]\n",
    "X = submi_df[[\"flight_duration\",\"acOp_meantow\",\"flown_distance\",\"taxiout_time\",\"actype_meantow\",\"ICA\",\"maxAlt\",\"des_dev\",\"month\",\"ades_lon\",\"ades_lat\",\"adep_lon\",\"adep_lat\"]].to_numpy()\n",
    "final_submission_set_pred = GBReg.predict(X)\n",
    "final_submission_set[\"tow\"] = final_submission_set_pred\n",
    "final_submission_set[[\"flight_id\",\"tow\"]].to_csv(\"final_submission_set_GradientBoosting_v27.1.csv\",index=False)"
   ]
  },
  {
   "cell_type": "code",
   "execution_count": 22,
   "id": "7bf652f2-905a-4c21-9cf8-bdc9544efbdf",
   "metadata": {},
   "outputs": [
    {
     "name": "stdout",
     "output_type": "stream",
     "text": [
      "cross val score is:  -3674.47\n"
     ]
    }
   ],
   "source": [
    "# ---------------Version 26 (section 5) (v15+bootstrap+max samples+500 estimators) recreation---------------\n",
    "# just putting everything in, 13params\n",
    "train_df = challenge_set[[\"actype_meantow\",\"acOp_meantow\",\"flight_duration\",\"flown_distance\",\"taxiout_time\",\"tow\",\"ICA\",\"maxAlt\",\"des_dev\",\"month\",\"ades_lon\",\"ades_lat\",\"adep_lon\",\"adep_lat\"]]\n",
    "X = train_df[[\"flight_duration\",\"acOp_meantow\",\"flown_distance\",\"taxiout_time\",\"actype_meantow\",\"ICA\",\"maxAlt\",\"des_dev\",\"month\",\"ades_lon\",\"ades_lat\",\"adep_lon\",\"adep_lat\"]].to_numpy()\n",
    "y = train_df[\"tow\"].to_numpy()\n",
    "# ExtraTreeRegression with 13 Parameters: \"flight_duration\",\"acOp_meantow\",\"flown_distance\",\"taxiout_time\",\"actype_meantow\",\"ICA\",\"maxAlt\",\"des_dev\",\"month\",\"ades_lon\",\"ades_lat\",\"adep_lon\",\"adep_lat\"\n",
    "ExTreeReg_v15 = ExtraTreesRegressor(n_estimators=500, random_state=0, bootstrap=True, n_jobs=-1, max_samples=0.2).fit(X, y)\n",
    "training_set_pred = ExTreeReg_v15.predict(X)\n",
    "score = cross_val_score(ExTreeReg_v15, X, y, scoring='neg_root_mean_squared_error').mean().round(2)\n",
    "print(\"cross val score is: \",score)\n",
    "# cross val score is:  \n",
    "challenge_set[\"tow_pred\"] = training_set_pred\n",
    "challenge_set[\"tow_diff_withADES\"] = challenge_set[\"tow_pred\"].sub(challenge_set[\"tow\"], axis=0)\n",
    "\n",
    "submi_df = final_submission_set[[\"actype_meantow\",\"acOp_meantow\",\"flight_duration\",\"flown_distance\",\"taxiout_time\",\"ICA\",\"maxAlt\",\"des_dev\",\"month\",\"ades_lon\",\"ades_lat\",\"adep_lon\",\"adep_lat\"]]\n",
    "X = submi_df[[\"flight_duration\",\"acOp_meantow\",\"flown_distance\",\"taxiout_time\",\"actype_meantow\",\"ICA\",\"maxAlt\",\"des_dev\",\"month\",\"ades_lon\",\"ades_lat\",\"adep_lon\",\"adep_lat\"]].to_numpy()\n",
    "final_submission_set_pred = ExTreeReg_v15.predict(X)\n",
    "final_submission_set[\"tow\"] = final_submission_set_pred\n",
    "final_submission_set[[\"flight_id\",\"tow\"]].to_csv(\"final_submission_set_ExTreeReg_v15.csv\",index=False)\n",
    "### RMSE score on OSN Ranking = "
   ]
  },
  {
   "cell_type": "code",
   "execution_count": 26,
   "id": "9cdc469c-74b8-4684-9b73-84abab292b56",
   "metadata": {},
   "outputs": [
    {
     "name": "stdout",
     "output_type": "stream",
     "text": [
      "cross val score is:  -3685.15\n"
     ]
    }
   ],
   "source": [
    "# ---------------Version 26.1 (section 5) (v15+bootstrap+max samples+500 estimators, drop flight duration)---------------\n",
    "# just putting everything in, 13params\n",
    "train_df = challenge_set[[\"actype_meantow\",\"acOp_meantow\",\"flight_duration\",\"flown_distance\",\"taxiout_time\",\"tow\",\"ICA\",\"maxAlt\",\"des_dev\",\"month\",\"ades_lon\",\"ades_lat\",\"adep_lon\",\"adep_lat\"]]\n",
    "X = train_df[[\"acOp_meantow\",\"flown_distance\",\"taxiout_time\",\"actype_meantow\",\"ICA\",\"maxAlt\",\"des_dev\",\"month\",\"ades_lon\",\"ades_lat\",\"adep_lon\",\"adep_lat\"]].to_numpy()\n",
    "y = train_df[\"tow\"].to_numpy()\n",
    "# ExtraTreeRegression with 13 Parameters: \"flight_duration\",\"acOp_meantow\",\"flown_distance\",\"taxiout_time\",\"actype_meantow\",\"ICA\",\"maxAlt\",\"des_dev\",\"month\",\"ades_lon\",\"ades_lat\",\"adep_lon\",\"adep_lat\"\n",
    "ExTreeReg_v261 = ExtraTreesRegressor(n_estimators=500, random_state=0, bootstrap=True, n_jobs=-1, max_samples=0.2).fit(X, y)\n",
    "training_set_pred = ExTreeReg_v261.predict(X)\n",
    "score = cross_val_score(ExTreeReg_v261, X, y, scoring='neg_root_mean_squared_error').mean().round(2)\n",
    "print(\"cross val score is: \",score)\n",
    "# cross val score is:  \n",
    "challenge_set[\"tow_pred\"] = training_set_pred\n",
    "challenge_set[\"tow_diff_withADES\"] = challenge_set[\"tow_pred\"].sub(challenge_set[\"tow\"], axis=0)\n",
    "\n",
    "submi_df = final_submission_set[[\"actype_meantow\",\"acOp_meantow\",\"flight_duration\",\"flown_distance\",\"taxiout_time\",\"ICA\",\"maxAlt\",\"des_dev\",\"month\",\"ades_lon\",\"ades_lat\",\"adep_lon\",\"adep_lat\"]]\n",
    "X = submi_df[[\"acOp_meantow\",\"flown_distance\",\"taxiout_time\",\"actype_meantow\",\"ICA\",\"maxAlt\",\"des_dev\",\"month\",\"ades_lon\",\"ades_lat\",\"adep_lon\",\"adep_lat\"]].to_numpy()\n",
    "final_submission_set_pred = ExTreeReg_v261.predict(X)\n",
    "final_submission_set[\"tow\"] = final_submission_set_pred\n",
    "final_submission_set[[\"flight_id\",\"tow\"]].to_csv(\"final_submission_set_ExTreeReg_v261.csv\",index=False)\n",
    "### RMSE score on OSN Ranking = "
   ]
  },
  {
   "cell_type": "code",
   "execution_count": 27,
   "id": "ffdb3ffe-8385-4aab-b0d3-782cc9c49c6f",
   "metadata": {},
   "outputs": [
    {
     "name": "stdout",
     "output_type": "stream",
     "text": [
      "cross val score is:  -3686.88\n"
     ]
    }
   ],
   "source": [
    "# ---------------Version 26.2 (section 5) (v15+bootstrap+max samples+500 estimators drop flight duration and taxi out time)---------------\n",
    "# just putting everything in, 13params\n",
    "train_df = challenge_set[[\"actype_meantow\",\"acOp_meantow\",\"flight_duration\",\"flown_distance\",\"taxiout_time\",\"tow\",\"ICA\",\"maxAlt\",\"des_dev\",\"month\",\"ades_lon\",\"ades_lat\",\"adep_lon\",\"adep_lat\"]]\n",
    "X = train_df[[\"acOp_meantow\",\"flown_distance\",\"actype_meantow\",\"ICA\",\"maxAlt\",\"des_dev\",\"month\",\"ades_lon\",\"ades_lat\",\"adep_lon\",\"adep_lat\"]].to_numpy()\n",
    "y = train_df[\"tow\"].to_numpy()\n",
    "# ExtraTreeRegression with 13 Parameters: \"flight_duration\",\"acOp_meantow\",\"flown_distance\",\"taxiout_time\",\"actype_meantow\",\"ICA\",\"maxAlt\",\"des_dev\",\"month\",\"ades_lon\",\"ades_lat\",\"adep_lon\",\"adep_lat\"\n",
    "ExTreeReg_v262 = ExtraTreesRegressor(n_estimators=500, random_state=0, bootstrap=True, n_jobs=-1, max_samples=0.2).fit(X, y)\n",
    "training_set_pred = ExTreeReg_v262.predict(X)\n",
    "score = cross_val_score(ExTreeReg_v262, X, y, scoring='neg_root_mean_squared_error').mean().round(2)\n",
    "print(\"cross val score is: \",score)\n",
    "# cross val score is:  \n",
    "challenge_set[\"tow_pred\"] = training_set_pred\n",
    "challenge_set[\"tow_diff_withADES\"] = challenge_set[\"tow_pred\"].sub(challenge_set[\"tow\"], axis=0)\n",
    "\n",
    "submi_df = final_submission_set[[\"actype_meantow\",\"acOp_meantow\",\"flight_duration\",\"flown_distance\",\"taxiout_time\",\"ICA\",\"maxAlt\",\"des_dev\",\"month\",\"ades_lon\",\"ades_lat\",\"adep_lon\",\"adep_lat\"]]\n",
    "X = submi_df[[\"acOp_meantow\",\"flown_distance\",\"actype_meantow\",\"ICA\",\"maxAlt\",\"des_dev\",\"month\",\"ades_lon\",\"ades_lat\",\"adep_lon\",\"adep_lat\"]].to_numpy()\n",
    "final_submission_set_pred = ExTreeReg_v262.predict(X)\n",
    "final_submission_set[\"tow\"] = final_submission_set_pred\n",
    "final_submission_set[[\"flight_id\",\"tow\"]].to_csv(\"final_submission_set_ExTreeReg_v262.csv\",index=False)\n",
    "### RMSE score on OSN Ranking = "
   ]
  },
  {
   "cell_type": "code",
   "execution_count": 29,
   "id": "7f9bc1cb-6d20-4262-a81a-555a0266bf4b",
   "metadata": {},
   "outputs": [
    {
     "name": "stdout",
     "output_type": "stream",
     "text": [
      "cross val score is:  -3689.07\n"
     ]
    }
   ],
   "source": [
    "# ---------------Version 26.3 (section 5) (v15+bootstrap+max samples+400 estimators drop flight duration and taxi out time)---------------\n",
    "# just putting everything in, 13params\n",
    "train_df = challenge_set[[\"actype_meantow\",\"acOp_meantow\",\"flight_duration\",\"flown_distance\",\"taxiout_time\",\"tow\",\"ICA\",\"maxAlt\",\"des_dev\",\"month\",\"ades_lon\",\"ades_lat\",\"adep_lon\",\"adep_lat\"]]\n",
    "X = train_df[[\"acOp_meantow\",\"flown_distance\",\"actype_meantow\",\"ICA\",\"maxAlt\",\"des_dev\",\"month\",\"ades_lon\",\"ades_lat\",\"adep_lon\",\"adep_lat\"]].to_numpy()\n",
    "y = train_df[\"tow\"].to_numpy()\n",
    "# ExtraTreeRegression with 13 Parameters: \"flight_duration\",\"acOp_meantow\",\"flown_distance\",\"taxiout_time\",\"actype_meantow\",\"ICA\",\"maxAlt\",\"des_dev\",\"month\",\"ades_lon\",\"ades_lat\",\"adep_lon\",\"adep_lat\"\n",
    "ExTreeReg_v262 = ExtraTreesRegressor(n_estimators=400, random_state=0, bootstrap=True, n_jobs=-1, max_samples=0.2).fit(X, y)\n",
    "training_set_pred = ExTreeReg_v262.predict(X)\n",
    "score = cross_val_score(ExTreeReg_v262, X, y, scoring='neg_root_mean_squared_error').mean().round(2)\n",
    "print(\"cross val score is: \",score)\n",
    "# cross val score is:  \n",
    "challenge_set[\"tow_pred\"] = training_set_pred\n",
    "challenge_set[\"tow_diff_withADES\"] = challenge_set[\"tow_pred\"].sub(challenge_set[\"tow\"], axis=0)\n",
    "\n",
    "submi_df = final_submission_set[[\"actype_meantow\",\"acOp_meantow\",\"flight_duration\",\"flown_distance\",\"taxiout_time\",\"ICA\",\"maxAlt\",\"des_dev\",\"month\",\"ades_lon\",\"ades_lat\",\"adep_lon\",\"adep_lat\"]]\n",
    "X = submi_df[[\"acOp_meantow\",\"flown_distance\",\"actype_meantow\",\"ICA\",\"maxAlt\",\"des_dev\",\"month\",\"ades_lon\",\"ades_lat\",\"adep_lon\",\"adep_lat\"]].to_numpy()\n",
    "final_submission_set_pred = ExTreeReg_v262.predict(X)\n",
    "final_submission_set[\"tow\"] = final_submission_set_pred\n",
    "final_submission_set[[\"flight_id\",\"tow\"]].to_csv(\"final_submission_set_ExTreeReg_v263.csv\",index=False)\n",
    "### RMSE score on OSN Ranking = "
   ]
  },
  {
   "cell_type": "code",
   "execution_count": 33,
   "id": "7fa4d2da-853e-48bd-9fef-0913c7de0f3d",
   "metadata": {},
   "outputs": [
    {
     "name": "stdout",
     "output_type": "stream",
     "text": [
      "cross val score is:  -3693.21\n"
     ]
    }
   ],
   "source": [
    "# ---------------Version 26.4 (section 5) (v15+bootstrap+max samples+450 estimators drop flight duration and taxi out time and desdev)---------------\n",
    "# just putting everything in, 13params\n",
    "train_df = challenge_set[[\"actype_meantow\",\"acOp_meantow\",\"flight_duration\",\"flown_distance\",\"taxiout_time\",\"tow\",\"ICA\",\"maxAlt\",\"des_dev\",\"month\",\"ades_lon\",\"ades_lat\",\"adep_lon\",\"adep_lat\"]]\n",
    "X = train_df[[\"acOp_meantow\",\"flown_distance\",\"actype_meantow\",\"ICA\",\"maxAlt\",\"month\",\"ades_lon\",\"ades_lat\",\"adep_lon\",\"adep_lat\"]].to_numpy()\n",
    "y = train_df[\"tow\"].to_numpy()\n",
    "# ExtraTreeRegression with 13 Parameters: \"flight_duration\",\"acOp_meantow\",\"flown_distance\",\"taxiout_time\",\"actype_meantow\",\"ICA\",\"maxAlt\",\"des_dev\",\"month\",\"ades_lon\",\"ades_lat\",\"adep_lon\",\"adep_lat\"\n",
    "ExTreeReg_v262 = ExtraTreesRegressor(n_estimators=450, random_state=20241026, bootstrap=True, n_jobs=-1, max_samples=0.2).fit(X, y)\n",
    "training_set_pred = ExTreeReg_v262.predict(X)\n",
    "score = cross_val_score(ExTreeReg_v262, X, y, scoring='neg_root_mean_squared_error').mean().round(2)\n",
    "print(\"cross val score is: \",score)\n",
    "# cross val score is:  \n",
    "challenge_set[\"tow_pred\"] = training_set_pred\n",
    "challenge_set[\"tow_diff_withADES\"] = challenge_set[\"tow_pred\"].sub(challenge_set[\"tow\"], axis=0)\n",
    "\n",
    "submi_df = final_submission_set[[\"actype_meantow\",\"acOp_meantow\",\"flight_duration\",\"flown_distance\",\"taxiout_time\",\"ICA\",\"maxAlt\",\"month\",\"ades_lon\",\"ades_lat\",\"adep_lon\",\"adep_lat\"]]\n",
    "X = submi_df[[\"acOp_meantow\",\"flown_distance\",\"actype_meantow\",\"ICA\",\"maxAlt\",\"month\",\"ades_lon\",\"ades_lat\",\"adep_lon\",\"adep_lat\"]].to_numpy()\n",
    "final_submission_set_pred = ExTreeReg_v262.predict(X)\n",
    "final_submission_set[\"tow\"] = final_submission_set_pred\n",
    "final_submission_set[[\"flight_id\",\"tow\"]].to_csv(\"final_submission_set_ExTreeReg_v264.csv\",index=False)\n",
    "### RMSE score on OSN Ranking = "
   ]
  },
  {
   "cell_type": "code",
   "execution_count": 42,
   "id": "cbb6c0b4-3234-4b26-bd29-c23bbec838a3",
   "metadata": {},
   "outputs": [
    {
     "name": "stdout",
     "output_type": "stream",
     "text": [
      "cross val score is:  -3694.01\n"
     ]
    }
   ],
   "source": [
    "# ---------------Version 26.5 (section 5) (v15+bootstrap+max samples+1000 estimators drop flight duration and taxi out time and desdev and actype_meantow)---------------\n",
    "# just putting everything in, 13params\n",
    "train_df = challenge_set[[\"actype_meantow\",\"acOp_meantow\",\"flight_duration\",\"flown_distance\",\"taxiout_time\",\"tow\",\"ICA\",\"maxAlt\",\"des_dev\",\"month\",\"ades_lon\",\"ades_lat\",\"adep_lon\",\"adep_lat\"]]\n",
    "X = train_df[[\"acOp_meantow\",\"flown_distance\",\"ICA\",\"maxAlt\",\"month\",\"ades_lon\",\"ades_lat\",\"adep_lon\",\"adep_lat\"]].to_numpy()\n",
    "y = train_df[\"tow\"].to_numpy()\n",
    "# ExtraTreeRegression with 13 Parameters: \"flight_duration\",\"acOp_meantow\",\"flown_distance\",\"taxiout_time\",\"actype_meantow\",\"ICA\",\"maxAlt\",\"des_dev\",\"month\",\"ades_lon\",\"ades_lat\",\"adep_lon\",\"adep_lat\"\n",
    "ExTreeReg_v262 = ExtraTreesRegressor(n_estimators=1000, random_state=20241026, bootstrap=True, n_jobs=-1, max_samples=0.2).fit(X, y)\n",
    "training_set_pred = ExTreeReg_v262.predict(X)\n",
    "score = cross_val_score(ExTreeReg_v262, X, y, scoring='neg_root_mean_squared_error').mean().round(2)\n",
    "print(\"cross val score is: \",score)\n",
    "# cross val score is:  \n",
    "challenge_set[\"tow_pred\"] = training_set_pred\n",
    "challenge_set[\"tow_diff_withADES\"] = challenge_set[\"tow_pred\"].sub(challenge_set[\"tow\"], axis=0)\n",
    "\n",
    "submi_df = final_submission_set[[\"actype_meantow\",\"acOp_meantow\",\"flight_duration\",\"flown_distance\",\"taxiout_time\",\"ICA\",\"maxAlt\",\"month\",\"ades_lon\",\"ades_lat\",\"adep_lon\",\"adep_lat\"]]\n",
    "X = submi_df[[\"acOp_meantow\",\"flown_distance\",\"ICA\",\"maxAlt\",\"month\",\"ades_lon\",\"ades_lat\",\"adep_lon\",\"adep_lat\"]].to_numpy()\n",
    "final_submission_set_pred = ExTreeReg_v262.predict(X)\n",
    "final_submission_set[\"tow\"] = final_submission_set_pred\n",
    "final_submission_set[[\"flight_id\",\"tow\"]].to_csv(\"final_submission_set_ExTreeReg_v265.csv\",index=False)\n",
    "### RMSE score on OSN Ranking = "
   ]
  },
  {
   "cell_type": "code",
   "execution_count": 41,
   "id": "95e3d24d-9600-4474-ae8f-ae6e796dee84",
   "metadata": {},
   "outputs": [
    {
     "name": "stdout",
     "output_type": "stream",
     "text": [
      "cross val score is:  -3671.86\n"
     ]
    }
   ],
   "source": [
    "# ---------------Version 266 (section 5) (v15+bootstrap+max samples0.2+1000 estimators) recreation---------------\n",
    "# just putting everything in, 13params\n",
    "train_df = challenge_set[[\"actype_meantow\",\"acOp_meantow\",\"flight_duration\",\"flown_distance\",\"taxiout_time\",\"tow\",\"ICA\",\"maxAlt\",\"des_dev\",\"month\",\"ades_lon\",\"ades_lat\",\"adep_lon\",\"adep_lat\"]]\n",
    "X = train_df[[\"flight_duration\",\"acOp_meantow\",\"flown_distance\",\"taxiout_time\",\"actype_meantow\",\"ICA\",\"maxAlt\",\"des_dev\",\"month\",\"ades_lon\",\"ades_lat\",\"adep_lon\",\"adep_lat\"]].to_numpy()\n",
    "y = train_df[\"tow\"].to_numpy()\n",
    "# ExtraTreeRegression with 13 Parameters: \"flight_duration\",\"acOp_meantow\",\"flown_distance\",\"taxiout_time\",\"actype_meantow\",\"ICA\",\"maxAlt\",\"des_dev\",\"month\",\"ades_lon\",\"ades_lat\",\"adep_lon\",\"adep_lat\"\n",
    "ExTreeReg_v15 = ExtraTreesRegressor(n_estimators=1000, random_state=0, bootstrap=True, n_jobs=-1, max_samples=0.2).fit(X, y)\n",
    "training_set_pred = ExTreeReg_v15.predict(X)\n",
    "score = cross_val_score(ExTreeReg_v15, X, y, scoring='neg_root_mean_squared_error').mean().round(2)\n",
    "print(\"cross val score is: \",score)\n",
    "# cross val score is:  \n",
    "challenge_set[\"tow_pred\"] = training_set_pred\n",
    "challenge_set[\"tow_diff_withADES\"] = challenge_set[\"tow_pred\"].sub(challenge_set[\"tow\"], axis=0)\n",
    "\n",
    "submi_df = final_submission_set[[\"actype_meantow\",\"acOp_meantow\",\"flight_duration\",\"flown_distance\",\"taxiout_time\",\"ICA\",\"maxAlt\",\"des_dev\",\"month\",\"ades_lon\",\"ades_lat\",\"adep_lon\",\"adep_lat\"]]\n",
    "X = submi_df[[\"flight_duration\",\"acOp_meantow\",\"flown_distance\",\"taxiout_time\",\"actype_meantow\",\"ICA\",\"maxAlt\",\"des_dev\",\"month\",\"ades_lon\",\"ades_lat\",\"adep_lon\",\"adep_lat\"]].to_numpy()\n",
    "final_submission_set_pred = ExTreeReg_v15.predict(X)\n",
    "final_submission_set[\"tow\"] = final_submission_set_pred\n",
    "final_submission_set[[\"flight_id\",\"tow\"]].to_csv(\"final_submission_set_ExTreeReg_v266.csv\",index=False)\n",
    "### RMSE score on OSN Ranking = "
   ]
  },
  {
   "cell_type": "code",
   "execution_count": 40,
   "id": "e9a88734-af23-4691-b06b-8b440f9a2e60",
   "metadata": {},
   "outputs": [
    {
     "name": "stdout",
     "output_type": "stream",
     "text": [
      "cross val score is:  -3670.78\n"
     ]
    }
   ],
   "source": [
    "# ---------------Version 267 (section 5) (v15+bootstrap+max samples 0.25+2048 estimators) recreation---------------\n",
    "# just putting everything in, 13params\n",
    "train_df = challenge_set[[\"actype_meantow\",\"acOp_meantow\",\"flight_duration\",\"flown_distance\",\"taxiout_time\",\"tow\",\"ICA\",\"maxAlt\",\"des_dev\",\"month\",\"ades_lon\",\"ades_lat\",\"adep_lon\",\"adep_lat\"]]\n",
    "X = train_df[[\"flight_duration\",\"acOp_meantow\",\"flown_distance\",\"taxiout_time\",\"actype_meantow\",\"ICA\",\"maxAlt\",\"des_dev\",\"month\",\"ades_lon\",\"ades_lat\",\"adep_lon\",\"adep_lat\"]].to_numpy()\n",
    "y = train_df[\"tow\"].to_numpy()\n",
    "# ExtraTreeRegression with 13 Parameters: \"flight_duration\",\"acOp_meantow\",\"flown_distance\",\"taxiout_time\",\"actype_meantow\",\"ICA\",\"maxAlt\",\"des_dev\",\"month\",\"ades_lon\",\"ades_lat\",\"adep_lon\",\"adep_lat\"\n",
    "ExTreeReg_v15 = ExtraTreesRegressor(n_estimators=2048, random_state=20241026, bootstrap=True, n_jobs=-1, max_samples=0.25).fit(X, y)\n",
    "training_set_pred = ExTreeReg_v15.predict(X)\n",
    "score = cross_val_score(ExTreeReg_v15, X, y, scoring='neg_root_mean_squared_error').mean().round(2)\n",
    "print(\"cross val score is: \",score)\n",
    "# cross val score is:  \n",
    "challenge_set[\"tow_pred\"] = training_set_pred\n",
    "challenge_set[\"tow_diff_withADES\"] = challenge_set[\"tow_pred\"].sub(challenge_set[\"tow\"], axis=0)\n",
    "\n",
    "submi_df = final_submission_set[[\"actype_meantow\",\"acOp_meantow\",\"flight_duration\",\"flown_distance\",\"taxiout_time\",\"ICA\",\"maxAlt\",\"des_dev\",\"month\",\"ades_lon\",\"ades_lat\",\"adep_lon\",\"adep_lat\"]]\n",
    "X = submi_df[[\"flight_duration\",\"acOp_meantow\",\"flown_distance\",\"taxiout_time\",\"actype_meantow\",\"ICA\",\"maxAlt\",\"des_dev\",\"month\",\"ades_lon\",\"ades_lat\",\"adep_lon\",\"adep_lat\"]].to_numpy()\n",
    "final_submission_set_pred = ExTreeReg_v15.predict(X)\n",
    "final_submission_set[\"tow\"] = final_submission_set_pred\n",
    "final_submission_set[[\"flight_id\",\"tow\"]].to_csv(\"final_submission_set_ExTreeReg_v267.csv\",index=False)\n",
    "### RMSE score on OSN Ranking = "
   ]
  },
  {
   "cell_type": "code",
   "execution_count": 16,
   "id": "2eb17450-8d74-4343-8a33-f95294b937cc",
   "metadata": {},
   "outputs": [
    {
     "name": "stdout",
     "output_type": "stream",
     "text": [
      "cross val score is:  -3675.85\n"
     ]
    }
   ],
   "source": [
    "# ---------------Version 268 (section 5) (v15+bootstrap+max samples 0.5+2048 estimators) recreation---------------\n",
    "# just putting everything in, 13params\n",
    "train_df = challenge_set[[\"actype_meantow\",\"acOp_meantow\",\"flight_duration\",\"flown_distance\",\"taxiout_time\",\"tow\",\"ICA\",\"maxAlt\",\"des_dev\",\"month\",\"ades_lon\",\"ades_lat\",\"adep_lon\",\"adep_lat\"]]\n",
    "X = train_df[[\"flight_duration\",\"acOp_meantow\",\"flown_distance\",\"taxiout_time\",\"actype_meantow\",\"ICA\",\"maxAlt\",\"des_dev\",\"month\",\"ades_lon\",\"ades_lat\",\"adep_lon\",\"adep_lat\"]].to_numpy()\n",
    "y = train_df[\"tow\"].to_numpy()\n",
    "# ExtraTreeRegression with 13 Parameters: \"flight_duration\",\"acOp_meantow\",\"flown_distance\",\"taxiout_time\",\"actype_meantow\",\"ICA\",\"maxAlt\",\"des_dev\",\"month\",\"ades_lon\",\"ades_lat\",\"adep_lon\",\"adep_lat\"\n",
    "ExTreeReg_v15 = ExtraTreesRegressor(n_estimators=4096, random_state=20241026, bootstrap=True, n_jobs=-1, max_samples=0.17).fit(X, y)\n",
    "training_set_pred = ExTreeReg_v15.predict(X)\n",
    "score = cross_val_score(ExTreeReg_v15, X, y, scoring='neg_root_mean_squared_error').mean().round(2)\n",
    "print(\"cross val score is: \",score)\n",
    "# cross val score is:  \n",
    "challenge_set[\"tow_pred\"] = training_set_pred\n",
    "challenge_set[\"tow_diff_withADES\"] = challenge_set[\"tow_pred\"].sub(challenge_set[\"tow\"], axis=0)\n",
    "\n",
    "submi_df = final_submission_set[[\"actype_meantow\",\"acOp_meantow\",\"flight_duration\",\"flown_distance\",\"taxiout_time\",\"ICA\",\"maxAlt\",\"des_dev\",\"month\",\"ades_lon\",\"ades_lat\",\"adep_lon\",\"adep_lat\"]]\n",
    "X = submi_df[[\"flight_duration\",\"acOp_meantow\",\"flown_distance\",\"taxiout_time\",\"actype_meantow\",\"ICA\",\"maxAlt\",\"des_dev\",\"month\",\"ades_lon\",\"ades_lat\",\"adep_lon\",\"adep_lat\"]].to_numpy()\n",
    "final_submission_set_pred = ExTreeReg_v15.predict(X)\n",
    "final_submission_set[\"tow\"] = final_submission_set_pred\n",
    "final_submission_set[[\"flight_id\",\"tow\"]].to_csv(\"final_submission_set_ExTreeReg_v268.csv\",index=False)\n",
    "### RMSE score on OSN Ranking = "
   ]
  },
  {
   "cell_type": "code",
   "execution_count": 17,
   "id": "df66497a-98e4-4531-9112-433a6613244e",
   "metadata": {},
   "outputs": [
    {
     "name": "stdout",
     "output_type": "stream",
     "text": [
      "cross val score is:  -3726.47\n"
     ]
    }
   ],
   "source": [
    "# ---------------Version 268 (section 5) (v15+bootstrap+max samples 0.5+2048 estimators, drop desdev) recreation---------------\n",
    "# just putting everything in, 13params\n",
    "train_df = challenge_set[[\"actype_meantow\",\"acOp_meantow\",\"flight_duration\",\"flown_distance\",\"taxiout_time\",\"tow\",\"ICA\",\"maxAlt\",\"des_dev\",\"month\",\"ades_lon\",\"ades_lat\",\"adep_lon\",\"adep_lat\"]]\n",
    "X = train_df[[\"flight_duration\",\"acOp_meantow\",\"flown_distance\",\"taxiout_time\",\"actype_meantow\",\"ICA\",\"maxAlt\",\"month\",\"ades_lon\",\"ades_lat\"]].to_numpy()\n",
    "y = train_df[\"tow\"].to_numpy()\n",
    "# ExtraTreeRegression with 13 Parameters: \"flight_duration\",\"acOp_meantow\",\"flown_distance\",\"taxiout_time\",\"actype_meantow\",\"ICA\",\"maxAlt\",\"des_dev\",\"month\",\"ades_lon\",\"ades_lat\",\"adep_lon\",\"adep_lat\"\n",
    "ExTreeReg_v15 = ExtraTreesRegressor(n_estimators=512, random_state=20241026, bootstrap=True, n_jobs=-1, max_samples=0.2).fit(X, y)\n",
    "training_set_pred = ExTreeReg_v15.predict(X)\n",
    "score = cross_val_score(ExTreeReg_v15, X, y, scoring='neg_root_mean_squared_error').mean().round(2)\n",
    "print(\"cross val score is: \",score)\n",
    "# cross val score is:  \n",
    "challenge_set[\"tow_pred\"] = training_set_pred\n",
    "challenge_set[\"tow_diff_withADES\"] = challenge_set[\"tow_pred\"].sub(challenge_set[\"tow\"], axis=0)\n",
    "\n",
    "submi_df = final_submission_set[[\"actype_meantow\",\"acOp_meantow\",\"flight_duration\",\"flown_distance\",\"taxiout_time\",\"ICA\",\"maxAlt\",\"des_dev\",\"month\",\"ades_lon\",\"ades_lat\",\"adep_lon\",\"adep_lat\"]]\n",
    "X = submi_df[[\"flight_duration\",\"acOp_meantow\",\"flown_distance\",\"taxiout_time\",\"actype_meantow\",\"ICA\",\"maxAlt\",\"month\",\"ades_lon\",\"ades_lat\"]].to_numpy()\n",
    "final_submission_set_pred = ExTreeReg_v15.predict(X)\n",
    "final_submission_set[\"tow\"] = final_submission_set_pred\n",
    "final_submission_set[[\"flight_id\",\"tow\"]].to_csv(\"final_submission_set_ExTreeReg_v2689.csv\",index=False)\n",
    "### RMSE score on OSN Ranking = "
   ]
  },
  {
   "cell_type": "code",
   "execution_count": 18,
   "id": "c052a637-9dfb-4340-9663-a1de4d4a5543",
   "metadata": {},
   "outputs": [
    {
     "name": "stdout",
     "output_type": "stream",
     "text": [
      "cross val score is:  -3762.93\n"
     ]
    }
   ],
   "source": [
    "# ---------------Version 2691 (section 5) (v15+bootstrap+max samples 0.5+2048 estimators, drop desdev and dep) recreation---------------\n",
    "# just putting everything in, 13params\n",
    "train_df = challenge_set[[\"actype_meantow\",\"acOp_meantow\",\"flight_duration\",\"flown_distance\",\"taxiout_time\",\"tow\",\"ICA\",\"maxAlt\",\"des_dev\",\"month\",\"ades_lon\",\"ades_lat\",\"adep_lon\",\"adep_lat\"]]\n",
    "X = train_df[[\"flight_duration\",\"acOp_meantow\",\"flown_distance\",\"taxiout_time\",\"actype_meantow\",\"ICA\",\"maxAlt\",\"ades_lon\",\"ades_lat\"]].to_numpy()\n",
    "y = train_df[\"tow\"].to_numpy()\n",
    "# ExtraTreeRegression with 13 Parameters: \"flight_duration\",\"acOp_meantow\",\"flown_distance\",\"taxiout_time\",\"actype_meantow\",\"ICA\",\"maxAlt\",\"des_dev\",\"month\",\"ades_lon\",\"ades_lat\",\"adep_lon\",\"adep_lat\"\n",
    "ExTreeReg_v15 = ExtraTreesRegressor(n_estimators=512, random_state=20241026, bootstrap=True, n_jobs=-1, max_samples=0.2).fit(X, y)\n",
    "training_set_pred = ExTreeReg_v15.predict(X)\n",
    "score = cross_val_score(ExTreeReg_v15, X, y, scoring='neg_root_mean_squared_error').mean().round(2)\n",
    "print(\"cross val score is: \",score)\n",
    "# cross val score is:  \n",
    "challenge_set[\"tow_pred\"] = training_set_pred\n",
    "challenge_set[\"tow_diff_withADES\"] = challenge_set[\"tow_pred\"].sub(challenge_set[\"tow\"], axis=0)\n",
    "\n",
    "submi_df = final_submission_set[[\"actype_meantow\",\"acOp_meantow\",\"flight_duration\",\"flown_distance\",\"taxiout_time\",\"ICA\",\"maxAlt\",\"des_dev\",\"month\",\"ades_lon\",\"ades_lat\",\"adep_lon\",\"adep_lat\"]]\n",
    "X = submi_df[[\"flight_duration\",\"acOp_meantow\",\"flown_distance\",\"taxiout_time\",\"actype_meantow\",\"ICA\",\"maxAlt\",\"ades_lon\",\"ades_lat\"]].to_numpy()\n",
    "final_submission_set_pred = ExTreeReg_v15.predict(X)\n",
    "final_submission_set[\"tow\"] = final_submission_set_pred\n",
    "final_submission_set[[\"flight_id\",\"tow\"]].to_csv(\"final_submission_set_ExTreeReg_v2691.csv\",index=False)\n",
    "### RMSE score on OSN Ranking = "
   ]
  },
  {
   "cell_type": "code",
   "execution_count": null,
   "id": "a959c037-c721-43d1-92d7-74487e6c17bb",
   "metadata": {},
   "outputs": [],
   "source": []
  }
 ],
 "metadata": {
  "kernelspec": {
   "display_name": "Python 3 (ipykernel)",
   "language": "python",
   "name": "python3"
  },
  "language_info": {
   "codemirror_mode": {
    "name": "ipython",
    "version": 3
   },
   "file_extension": ".py",
   "mimetype": "text/x-python",
   "name": "python",
   "nbconvert_exporter": "python",
   "pygments_lexer": "ipython3",
   "version": "3.9.19"
  }
 },
 "nbformat": 4,
 "nbformat_minor": 5
}
